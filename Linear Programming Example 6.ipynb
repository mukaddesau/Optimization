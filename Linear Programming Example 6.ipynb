{
 "cells": [
  {
   "cell_type": "markdown",
   "id": "f5067d12",
   "metadata": {},
   "source": [
    "![Ex6](images/LP_Ex_6.png)"
   ]
  },
  {
   "cell_type": "markdown",
   "id": "8fa16607",
   "metadata": {},
   "source": [
    "***\n",
    "\n",
    "<h2><center>Mathematical Model</center></h1>\n",
    "\n",
    "---\n",
    "$$ min\\quad z = X + Y + 30 + 90 - 75 - 95  \\textrm{   (Objective Function)} $$\n",
    "---\n",
    " \n",
    "$$ \\textrm{subject to } $$\n",
    "---\n",
    "$$ X*50 + Y*24 <= 40*60  \\textrm{   (Time Constraint)} $$\n",
    "---\n",
    "$$ X*30 + Y*33 <= 35*60  \\textrm{   (Time Constraint)} $$\n",
    "---\n",
    "$$ X >= 75 - 30  \\textrm{   (Demand Constraint)} $$\n",
    "---\n",
    "$$ Y >= 95 - 90  \\textrm{   (Demand Constraint)} $$\n",
    "---\n",
    "$$ X,Y >= 0 \\textrm{  (Sign Constraint)} $$\n",
    "---\n"
   ]
  },
  {
   "cell_type": "code",
   "execution_count": 1,
   "id": "4efc9138",
   "metadata": {},
   "outputs": [],
   "source": [
    "from docplex.mp.model import Model"
   ]
  },
  {
   "cell_type": "code",
   "execution_count": 2,
   "id": "279af6e4",
   "metadata": {},
   "outputs": [],
   "source": [
    "# Create a model.\n",
    "mdl = Model('Product & Machine Example')"
   ]
  },
  {
   "cell_type": "code",
   "execution_count": 3,
   "id": "f16e3a3b",
   "metadata": {},
   "outputs": [],
   "source": [
    "# Define Cont. Variables and give a sign constraint\n",
    "X = mdl.continuous_var(name='X', lb=0)\n",
    "Y = mdl.continuous_var(name='Y', lb=0)"
   ]
  },
  {
   "cell_type": "code",
   "execution_count": 29,
   "id": "d8515aa7",
   "metadata": {},
   "outputs": [
    {
     "data": {
      "text/plain": [
       "[docplex.mp.LinearConstraint[Time Const. A](50X+24Y,LE,2400),\n",
       " docplex.mp.LinearConstraint[Time Const. B](30X+33Y,LE,2100),\n",
       " docplex.mp.LinearConstraint[Demand Const. X](X,GE,45),\n",
       " docplex.mp.LinearConstraint[Demand Const. Y](Y,GE,5)]"
      ]
     },
     "execution_count": 29,
     "metadata": {},
     "output_type": "execute_result"
    }
   ],
   "source": [
    "# Add Constraints\n",
    "mdl.add_constraints([X*50 + Y*24 <= 2400, X*30 + Y*33 <=2100,\n",
    "                    X >= 45, Y >= 5], names=['Time Const. A','Time Const. B', \n",
    "                                             'Demand Const. X', 'Demand Const. Y'])"
   ]
  },
  {
   "cell_type": "code",
   "execution_count": 5,
   "id": "42174bd8",
   "metadata": {},
   "outputs": [],
   "source": [
    "# Define an objective function.\n",
    "obj_function = X + Y - 50\n",
    "mdl.set_objective('min', obj_function)"
   ]
  },
  {
   "cell_type": "code",
   "execution_count": 6,
   "id": "d8df89b3",
   "metadata": {},
   "outputs": [
    {
     "name": "stdout",
     "output_type": "stream",
     "text": [
      "Model: Product & Machine Example\n",
      " - number of variables: 2\n",
      "   - binary=0, integer=0, continuous=2\n",
      " - number of constraints: 5\n",
      "   - linear=5\n",
      " - parameters: defaults\n",
      " - objective: minimize\n",
      " - problem type is: LP\n"
     ]
    }
   ],
   "source": [
    "# Show the parameters.\n",
    "mdl.print_information()"
   ]
  },
  {
   "cell_type": "code",
   "execution_count": 7,
   "id": "3a68d815",
   "metadata": {},
   "outputs": [],
   "source": [
    "# Call the solver.\n",
    "mdl.solve()"
   ]
  },
  {
   "cell_type": "code",
   "execution_count": 8,
   "id": "2a6cf8c0",
   "metadata": {},
   "outputs": [],
   "source": [
    "# Show the results.\n",
    "mdl.print_solution()"
   ]
  },
  {
   "cell_type": "markdown",
   "id": "e393959a",
   "metadata": {},
   "source": [
    "![Ex_6_2](images/LP_Ex_6_2.png)"
   ]
  },
  {
   "cell_type": "markdown",
   "id": "8440b497",
   "metadata": {},
   "source": [
    "***\n",
    "\n",
    "<h2><center>Mathematical Model</center></h1>\n",
    "\n",
    "---\n",
    "$$ min\\quad z = X + Y + 30 + 90 - 75 - 95  \\textrm{   (Objective Function)} $$\n",
    "---\n",
    " \n",
    "$$ \\textrm{subject to } $$\n",
    "---\n",
    "$$ X*50 + Y*24 <= 40*60  \\textrm{   (Time Constraint)} $$\n",
    "---\n",
    "$$ X*30 + Y*33 <= 35*60  \\textrm{   (Time Constraint)} $$\n",
    "---\n",
    "$$ X >= 75 - 30  \\textrm{   (Demand Constraint)} $$\n",
    "---\n",
    "$$ Y >= 95 - 90  \\textrm{   (Demand Constraint)} $$\n",
    "---\n",
    "$$ (X*50 + Y*24)/2400 = (X*30 + Y*33)/2100  \\textrm{   (Equality Constraint)} $$\n",
    "---\n",
    "$$ X,Y >= 0 \\textrm{  (Sign Constraint)} $$\n",
    "---\n",
    "\n"
   ]
  },
  {
   "cell_type": "code",
   "execution_count": 4,
   "id": "26999505",
   "metadata": {},
   "outputs": [
    {
     "data": {
      "text/plain": [
       "[docplex.mp.LinearConstraint[Time Const. A](50X+24Y,LE,2400),\n",
       " docplex.mp.LinearConstraint[Time Const. B](30X+33Y,LE,2100),\n",
       " docplex.mp.LinearConstraint[Demand Const. X](X,GE,45),\n",
       " docplex.mp.LinearConstraint[Demand Const. Y](Y,GE,5),\n",
       " docplex.mp.LinearConstraint[Equality Const.](0.021X+0.010Y,LE,0.014X+0.016Y)]"
      ]
     },
     "execution_count": 4,
     "metadata": {},
     "output_type": "execute_result"
    }
   ],
   "source": [
    "# # Add Constraints\n",
    "# mdl.add_constraints([(X*50 + Y*24)/2400 <= (X*30 + Y*33)/2100], names=['Equality Const.'])\n",
    "# Add Constraints\n",
    "mdl.add_constraints([X*50 + Y*24 <= 2400, X*30 + Y*33 <=2100,\n",
    "                    X >= 45, Y >= 5,\n",
    "                    (X*50 + Y*24)/2400 < (X*30 + Y*33)/2100], names=['Time Const. A','Time Const. B', \n",
    "                                             'Demand Const. X', 'Demand Const. Y','Equality Const.'])"
   ]
  },
  {
   "cell_type": "code",
   "execution_count": 47,
   "id": "0a50674d",
   "metadata": {},
   "outputs": [
    {
     "name": "stdout",
     "output_type": "stream",
     "text": [
      "Model: Product & Machine Example\n",
      " - number of variables: 2\n",
      "   - binary=0, integer=0, continuous=2\n",
      " - number of constraints: 5\n",
      "   - linear=5\n",
      " - parameters: defaults\n",
      " - objective: none\n",
      " - problem type is: LP\n"
     ]
    }
   ],
   "source": [
    "mdl.print_information()"
   ]
  },
  {
   "cell_type": "code",
   "execution_count": 48,
   "id": "17ef8744",
   "metadata": {},
   "outputs": [],
   "source": [
    "# Call the solver.\n",
    "mdl.solve()"
   ]
  },
  {
   "cell_type": "code",
   "execution_count": 38,
   "id": "c2c05a96",
   "metadata": {},
   "outputs": [],
   "source": [
    "# Show the results.\n",
    "mdl.print_solution()"
   ]
  },
  {
   "cell_type": "code",
   "execution_count": null,
   "id": "3995c042",
   "metadata": {},
   "outputs": [],
   "source": []
  }
 ],
 "metadata": {
  "kernelspec": {
   "display_name": "Python 3 (ipykernel)",
   "language": "python",
   "name": "python3"
  },
  "language_info": {
   "codemirror_mode": {
    "name": "ipython",
    "version": 3
   },
   "file_extension": ".py",
   "mimetype": "text/x-python",
   "name": "python",
   "nbconvert_exporter": "python",
   "pygments_lexer": "ipython3",
   "version": "3.7.13"
  }
 },
 "nbformat": 4,
 "nbformat_minor": 5
}

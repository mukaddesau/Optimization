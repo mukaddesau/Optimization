{
 "cells": [
  {
   "cell_type": "markdown",
   "id": "9a80c4e6",
   "metadata": {},
   "source": [
    "![title](images/LP_Ex_1_1.png)"
   ]
  },
  {
   "cell_type": "markdown",
   "id": "f0610df8",
   "metadata": {},
   "source": [
    "![title](images/LP_Ex_1_2.png)"
   ]
  },
  {
   "cell_type": "markdown",
   "id": "59c0131b",
   "metadata": {},
   "source": [
    "***\n",
    "\n",
    "<h2><center>Mathematical Model</center></h1>\n",
    "\n",
    "---\n",
    "$$ max\\quad z = (27-10-14)\\times s + (21-9-10)\\times t \\textrm{   (Objective Function)} $$\n",
    "--- \n",
    "$$ \\textrm{subject to } $$\n",
    "---\n",
    "$$ s\\times 2 + t\\times 1 <=100 $$\n",
    "---\n",
    "$$ s\\times 1 + t\\times 1 <=80 $$\n",
    "---\n",
    "$$ s<=40 $$\n",
    "---\n",
    "$$ s>=0 $$\n",
    "---\n",
    "$$ t>=0 $$\n",
    "---"
   ]
  },
  {
   "cell_type": "code",
   "execution_count": 2,
   "id": "e8a77400",
   "metadata": {},
   "outputs": [],
   "source": [
    "from docplex.mp.model import Model"
   ]
  },
  {
   "cell_type": "code",
   "execution_count": 3,
   "id": "390927a9",
   "metadata": {},
   "outputs": [],
   "source": [
    "#Create a Model\n",
    "mdl = Model('Giapetto\\'s Inc.')"
   ]
  },
  {
   "cell_type": "code",
   "execution_count": 4,
   "id": "68305d8a",
   "metadata": {},
   "outputs": [],
   "source": [
    "#Define Cont. Variables\n",
    "s = mdl.continuous_var(name='s', lb=0)\n",
    "t = mdl.continuous_var(name='t', lb=0)"
   ]
  },
  {
   "cell_type": "code",
   "execution_count": 5,
   "id": "b51d1908",
   "metadata": {},
   "outputs": [
    {
     "data": {
      "text/plain": [
       "[docplex.mp.LinearConstraint[demand_s1](s,LE,40)]"
      ]
     },
     "execution_count": 5,
     "metadata": {},
     "output_type": "execute_result"
    }
   ],
   "source": [
    "#Add Constraints\n",
    "mdl.add_constraints([2*s+t<=100], names='finishing')\n",
    "mdl.add_constraints([s+t<=80], names='carpentary')\n",
    "mdl.add_constraints([s<=40], names='demand_s')"
   ]
  },
  {
   "cell_type": "code",
   "execution_count": 6,
   "id": "d0583b9e",
   "metadata": {},
   "outputs": [],
   "source": [
    "#Define an objective function\n",
    "obj_func = 3*s + 2*t\n",
    "mdl.set_objective('max', obj_func)"
   ]
  },
  {
   "cell_type": "code",
   "execution_count": 7,
   "id": "47e570f5",
   "metadata": {},
   "outputs": [
    {
     "name": "stdout",
     "output_type": "stream",
     "text": [
      "Model: Giapetto's Inc.\n",
      " - number of variables: 2\n",
      "   - binary=0, integer=0, continuous=2\n",
      " - number of constraints: 3\n",
      "   - linear=3\n",
      " - parameters: defaults\n",
      " - objective: maximize\n",
      " - problem type is: LP\n"
     ]
    }
   ],
   "source": [
    "# Print the Parameters\n",
    "mdl.print_information()"
   ]
  },
  {
   "cell_type": "code",
   "execution_count": 8,
   "id": "3dda8703",
   "metadata": {},
   "outputs": [
    {
     "data": {
      "text/plain": [
       "docplex.mp.solution.SolveSolution(obj=180,values={s:20,t:60})"
      ]
     },
     "execution_count": 8,
     "metadata": {},
     "output_type": "execute_result"
    }
   ],
   "source": [
    "#Call the Solver\n",
    "mdl.solve()"
   ]
  },
  {
   "cell_type": "code",
   "execution_count": 9,
   "id": "9adcfef6",
   "metadata": {},
   "outputs": [
    {
     "name": "stdout",
     "output_type": "stream",
     "text": [
      "objective: 180.000\n",
      "  s=20.000\n",
      "  t=60.000\n"
     ]
    }
   ],
   "source": [
    "#Show the Results\n",
    "mdl.print_solution()"
   ]
  },
  {
   "cell_type": "code",
   "execution_count": null,
   "id": "99b7f8f5",
   "metadata": {},
   "outputs": [],
   "source": []
  }
 ],
 "metadata": {
  "kernelspec": {
   "display_name": "Python 3 (ipykernel)",
   "language": "python",
   "name": "python3"
  },
  "language_info": {
   "codemirror_mode": {
    "name": "ipython",
    "version": 3
   },
   "file_extension": ".py",
   "mimetype": "text/x-python",
   "name": "python",
   "nbconvert_exporter": "python",
   "pygments_lexer": "ipython3",
   "version": "3.7.13"
  }
 },
 "nbformat": 4,
 "nbformat_minor": 5
}

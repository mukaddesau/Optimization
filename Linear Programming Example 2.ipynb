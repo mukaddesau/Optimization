{
 "cells": [
  {
   "cell_type": "markdown",
   "id": "7b3064e7",
   "metadata": {},
   "source": [
    "![title](images/LP_Ex_2.png)"
   ]
  },
  {
   "cell_type": "markdown",
   "id": "801cb934",
   "metadata": {},
   "source": [
    "***\n",
    "\n",
    "<h2><center>Mathematical Model</center></h1>\n",
    "\n",
    "---\n",
    "$$ min\\quad z = Br\\times50 + Ic\\times20 + CO\\times30 + PC\\times80 \\textrm{   (Objective Function)} $$\n",
    "---\n",
    " \n",
    "$$ \\textrm{subject to } $$\n",
    "---\n",
    "$$ Br\\times150 + Ic\\times90 + CO\\times210 + PC\\times300 >= 500  \\textrm{   (Calorie Constraint)} $$\n",
    "---\n",
    "\n",
    "$$ Br\\times3 + IC\\times1 + CO \\times 0 + PC\\times0.5 >= 6  \\textrm{   (Chocolate Constraint)} $$\n",
    "---\n",
    "$$ Br\\times4 + IC\\times2 + CO\\times3 + PC\\times1.5 >= 10 \\textrm{   (Sugar Constraint)} $$\n",
    "---\n",
    "$$  Br\\times3 + IC\\times0.5 + CO\\times0 + PC\\times4 >= 8 \\textrm{   (Fat Constraint)} $$\n",
    "---\n",
    "$$ Br,IC, CO, PC >= 0 \\textrm{   (Sign Constraint)} $$\n",
    "---"
   ]
  },
  {
   "cell_type": "code",
   "execution_count": 1,
   "id": "04965e8f",
   "metadata": {},
   "outputs": [],
   "source": [
    "from docplex.mp.model import Model"
   ]
  },
  {
   "cell_type": "code",
   "execution_count": 2,
   "id": "9dcd72ce",
   "metadata": {},
   "outputs": [],
   "source": [
    "# Create a model.\n",
    "mdl = Model('Diet Example')"
   ]
  },
  {
   "cell_type": "code",
   "execution_count": 3,
   "id": "0e9a0dfd",
   "metadata": {},
   "outputs": [],
   "source": [
    "#Define Cont. Variables and give a sign constraint\n",
    "Br = mdl.continuous_var(name='Br', lb=0)\n",
    "Ic = mdl.continuous_var(name='Ic', lb=0)\n",
    "CO = mdl.continuous_var(name='CO', lb=0)\n",
    "PC = mdl.continuous_var(name='PC', lb=0)"
   ]
  },
  {
   "cell_type": "code",
   "execution_count": 4,
   "id": "766b84fe",
   "metadata": {},
   "outputs": [
    {
     "data": {
      "text/plain": [
       "[docplex.mp.LinearConstraint[calorie](150Br+90Ic+210CO+300PC,GE,500),\n",
       " docplex.mp.LinearConstraint[chocolate](3Br+Ic+0.500PC,GE,6),\n",
       " docplex.mp.LinearConstraint[sugar](4Br+2Ic+3CO+1.500PC,GE,10),\n",
       " docplex.mp.LinearConstraint[fat](3Br+0.500Ic+4PC,GE,8)]"
      ]
     },
     "execution_count": 4,
     "metadata": {},
     "output_type": "execute_result"
    }
   ],
   "source": [
    "#Add Constraints\n",
    "mdl.add_constraints([Br*150 + Ic*90 + CO*210 + PC*300 >= 500, Br*3 + Ic*1 + CO*0 + PC*0.5 >= 6,\n",
    "                    Br*4 + Ic*2 + CO*3 + PC*1.5 >= 10, Br*3 + Ic*0.5 + CO*0 + PC*4 >= 8], names=['calorie','chocolate','sugar','fat'])"
   ]
  },
  {
   "cell_type": "code",
   "execution_count": 6,
   "id": "4a963bfb",
   "metadata": {},
   "outputs": [],
   "source": [
    "#Define an objective function\n",
    "obj_function = Br*50 + Ic*20 + CO*30 + PC*80\n",
    "mdl.set_objective('min', obj_function)"
   ]
  },
  {
   "cell_type": "code",
   "execution_count": 7,
   "id": "6ccbb41c",
   "metadata": {},
   "outputs": [
    {
     "name": "stdout",
     "output_type": "stream",
     "text": [
      "Model: Diet Example\n",
      " - number of variables: 4\n",
      "   - binary=0, integer=0, continuous=4\n",
      " - number of constraints: 4\n",
      "   - linear=4\n",
      " - parameters: defaults\n",
      " - objective: minimize\n",
      " - problem type is: LP\n"
     ]
    }
   ],
   "source": [
    "# Print the Parameters\n",
    "mdl.print_information()"
   ]
  },
  {
   "cell_type": "code",
   "execution_count": 8,
   "id": "76a753bc",
   "metadata": {},
   "outputs": [
    {
     "data": {
      "text/plain": [
       "docplex.mp.solution.SolveSolution(obj=147.24,values={Br:2.13575,CO:0.286.."
      ]
     },
     "execution_count": 8,
     "metadata": {},
     "output_type": "execute_result"
    }
   ],
   "source": [
    "#Call the Solver\n",
    "mdl.solve()"
   ]
  },
  {
   "cell_type": "code",
   "execution_count": 9,
   "id": "8e597d16",
   "metadata": {},
   "outputs": [
    {
     "name": "stdout",
     "output_type": "stream",
     "text": [
      "objective: 147.240\n",
      "  Br=2.136\n",
      "  CO=0.287\n",
      "  PC=0.398\n"
     ]
    }
   ],
   "source": [
    "#Show the Results\n",
    "mdl.print_solution()"
   ]
  },
  {
   "cell_type": "code",
   "execution_count": null,
   "id": "79f99920",
   "metadata": {},
   "outputs": [],
   "source": []
  }
 ],
 "metadata": {
  "kernelspec": {
   "display_name": "Python 3 (ipykernel)",
   "language": "python",
   "name": "python3"
  },
  "language_info": {
   "codemirror_mode": {
    "name": "ipython",
    "version": 3
   },
   "file_extension": ".py",
   "mimetype": "text/x-python",
   "name": "python",
   "nbconvert_exporter": "python",
   "pygments_lexer": "ipython3",
   "version": "3.7.13"
  }
 },
 "nbformat": 4,
 "nbformat_minor": 5
}

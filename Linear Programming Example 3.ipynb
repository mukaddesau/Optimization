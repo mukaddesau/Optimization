{
 "cells": [
  {
   "cell_type": "markdown",
   "id": "1bfecce2",
   "metadata": {},
   "source": [
    "![title](images/LP_Ex_3.png)"
   ]
  },
  {
   "cell_type": "markdown",
   "id": "291978aa",
   "metadata": {},
   "source": [
    "***\n",
    "\n",
    "<h2><center>Mathematical Model</center></h1>\n",
    "\n",
    "---\n",
    "$$ min\\quad z = P1C1\\times8 + P1C2\\times6 + P1C3\\times10 + P1C4\\times9 +\n",
    "                P2C1\\times9 + P2C2\\times12 + P2C3\\times13 + P2C4\\times7 +\n",
    "                P3C1\\times14 + P3C2\\times9 + P3C3\\times16 + P3C4\\times5   \\textrm{   (Objective Function)} $$\n",
    "---\n",
    " \n",
    "$$ \\textrm{subject to } $$\n",
    "---\n",
    "$$ P1C1 + P2C1 + P3C1 >= 45  \\textrm{   (Demand Constraint)} $$\n",
    "---\n",
    "$$ P1C2 + P2C2 + P3C2 >= 20  \\textrm{   (Demand Constraint)} $$\n",
    "---\n",
    "$$ P1C3 + P2C3 + P3C3 >= 30  \\textrm{   (Demand Constraint)} $$\n",
    "---\n",
    "$$ P1C4 + P2C4 + P3C4 >= 30  \\textrm{   (Demand Constraint)} $$\n",
    "---\n",
    "$$ P1C1 + P1C2 + P1C3 + P1C3 <= 35  \\textrm{   (Supply Constraint)} $$\n",
    "---\n",
    "$$ P2C1 + P2C2 + P2C3 + P2C3 <= 50  \\textrm{   (Supply Constraint)} $$\n",
    "---\n",
    "$$ P3C1 + P3C2 + P3C3 + P3C3 <= 40  \\textrm{   (Supply Constraint)} $$\n",
    "---\n",
    "$$ Pij >= 0 \\textrm{   forall   i,j    (Sign Constraint)} $$\n",
    "---"
   ]
  },
  {
   "cell_type": "code",
   "execution_count": 5,
   "id": "bd21713a",
   "metadata": {},
   "outputs": [],
   "source": [
    "from docplex.mp.model import Model"
   ]
  },
  {
   "cell_type": "code",
   "execution_count": 7,
   "id": "90bcd731",
   "metadata": {},
   "outputs": [],
   "source": [
    "# Create a model.\n",
    "mdl = Model('Electric Power Plant Example')"
   ]
  },
  {
   "cell_type": "code",
   "execution_count": 8,
   "id": "ede173d2",
   "metadata": {},
   "outputs": [],
   "source": [
    "#Define Cont. Variables and give a sign constraint\n",
    "P1C1 = mdl.continuous_var(name='P1C1', lb=0)\n",
    "P1C2 = mdl.continuous_var(name='P1C2', lb=0)\n",
    "P1C3 = mdl.continuous_var(name='P1C3', lb=0)\n",
    "P1C4 = mdl.continuous_var(name='P1C4', lb=0)\n",
    "\n",
    "P2C1 = mdl.continuous_var(name='P2C1', lb=0)\n",
    "P2C2 = mdl.continuous_var(name='P2C2', lb=0)\n",
    "P2C3 = mdl.continuous_var(name='P2C3', lb=0)\n",
    "P2C4 = mdl.continuous_var(name='P2C4', lb=0)\n",
    "\n",
    "P3C1 = mdl.continuous_var(name='P3C1', lb=0)\n",
    "P3C2 = mdl.continuous_var(name='P3C2', lb=0)\n",
    "P3C3 = mdl.continuous_var(name='P3C3', lb=0)\n",
    "P3C4 = mdl.continuous_var(name='P3C4', lb=0)"
   ]
  },
  {
   "cell_type": "code",
   "execution_count": 10,
   "id": "cc2b0a04",
   "metadata": {},
   "outputs": [
    {
     "data": {
      "text/plain": [
       "[docplex.mp.LinearConstraint[calorie](P1C1+P2C1+P3C1,GE,45),\n",
       " docplex.mp.LinearConstraint[chocolate](P1C2+P2C2+P3C2,GE,20),\n",
       " docplex.mp.LinearConstraint[sugar](P1C3+P2C3+P3C3,GE,30),\n",
       " docplex.mp.LinearConstraint[fat](P1C4+P2C4+P3C4,GE,30),\n",
       " docplex.mp.LinearConstraint[](P1C1+P1C2+P1C3+P1C4,LE,35),\n",
       " docplex.mp.LinearConstraint[](P2C1+P2C2+P2C3+P2C4,LE,50),\n",
       " docplex.mp.LinearConstraint[](P3C1+P3C2+P3C3+P3C4,LE,40)]"
      ]
     },
     "execution_count": 10,
     "metadata": {},
     "output_type": "execute_result"
    }
   ],
   "source": [
    "#Add Constraints\n",
    "mdl.add_constraints([P1C1 + P2C1 + P3C1 >= 45, P1C2 + P2C2 + P3C2 >= 20,\n",
    "                     P1C3 + P2C3 + P3C3 >= 30, P1C4 + P2C4 + P3C4 >= 30,\n",
    "                     P1C1 + P1C2 + P1C3  + P1C4 <= 35,\n",
    "                     P2C1 + P2C2 + P2C3  + P2C4 <= 50,\n",
    "                     P3C1 + P3C2 + P3C3  + P3C4 <= 40], names=['calorie','chocolate','sugar','fat'])"
   ]
  },
  {
   "cell_type": "code",
   "execution_count": 12,
   "id": "5abbe2af",
   "metadata": {},
   "outputs": [],
   "source": [
    "#Define an objective function\n",
    "obj_function = P1C1*8 + P1C2*6 + P1C3*10 + P1C4*9 + \\\n",
    "               P1C1*9 + P1C2*12 + P1C3*13 + P1C4*7 + \\\n",
    "               P1C1*14 + P1C2*9 + P1C3*16 + P1C4*5 \n",
    "mdl.set_objective('min', obj_function)"
   ]
  },
  {
   "cell_type": "code",
   "execution_count": 13,
   "id": "a935ed8d",
   "metadata": {},
   "outputs": [
    {
     "name": "stdout",
     "output_type": "stream",
     "text": [
      "Model: Electric Power Plant Example\n",
      " - number of variables: 12\n",
      "   - binary=0, integer=0, continuous=12\n",
      " - number of constraints: 7\n",
      "   - linear=7\n",
      " - parameters: defaults\n",
      " - objective: minimize\n",
      " - problem type is: LP\n"
     ]
    }
   ],
   "source": [
    "# Print the Parameters\n",
    "mdl.print_information()"
   ]
  },
  {
   "cell_type": "code",
   "execution_count": 14,
   "id": "54463627",
   "metadata": {},
   "outputs": [
    {
     "data": {
      "text/plain": [
       "docplex.mp.solution.SolveSolution(obj=765,values={P1C2:5,P1C4:30,P2C1:5,.."
      ]
     },
     "execution_count": 14,
     "metadata": {},
     "output_type": "execute_result"
    }
   ],
   "source": [
    "#Call the Solver\n",
    "mdl.solve()"
   ]
  },
  {
   "cell_type": "code",
   "execution_count": 15,
   "id": "38eae5f8",
   "metadata": {},
   "outputs": [
    {
     "name": "stdout",
     "output_type": "stream",
     "text": [
      "objective: 765.000\n",
      "  P1C2=5.000\n",
      "  P1C4=30.000\n",
      "  P2C1=5.000\n",
      "  P2C2=15.000\n",
      "  P2C3=30.000\n",
      "  P3C1=40.000\n"
     ]
    }
   ],
   "source": [
    "#Show the Results\n",
    "mdl.print_solution()"
   ]
  },
  {
   "cell_type": "code",
   "execution_count": null,
   "id": "c29c9323",
   "metadata": {},
   "outputs": [],
   "source": []
  }
 ],
 "metadata": {
  "kernelspec": {
   "display_name": "Python 3 (ipykernel)",
   "language": "python",
   "name": "python3"
  },
  "language_info": {
   "codemirror_mode": {
    "name": "ipython",
    "version": 3
   },
   "file_extension": ".py",
   "mimetype": "text/x-python",
   "name": "python",
   "nbconvert_exporter": "python",
   "pygments_lexer": "ipython3",
   "version": "3.7.13"
  }
 },
 "nbformat": 4,
 "nbformat_minor": 5
}

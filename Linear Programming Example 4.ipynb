{
 "cells": [
  {
   "cell_type": "markdown",
   "id": "bae69332",
   "metadata": {},
   "source": [
    "![LPEx4](images/LP_Ex_4.png)"
   ]
  },
  {
   "cell_type": "markdown",
   "id": "919fc9cc",
   "metadata": {},
   "source": [
    "***\n",
    "\n",
    "<h2><center>Mathematical Model</center></h1>\n",
    "\n",
    "---\n",
    "$$ max\\quad z = P1\\times1000 + P2\\times1500    \\textrm{   (Objective Function)} $$\n",
    "---\n",
    " \n",
    "$$ \\textrm{subject to } $$\n",
    "---\n",
    "$$ 8 - P2 <= 10 - P1  \\textrm{   (Sell Constraint)} $$\n",
    "---\n",
    "$$ 12 - P1 <= 15 - P2  \\textrm{   (Sell Constraint)} $$\n",
    "---\n",
    "$$ P1 <= 10  \\textrm{   (Price Constraint)} $$\n",
    "---\n",
    "$$ P2 <= 15  \\textrm{   (Price Constraint)} $$\n",
    "---\n",
    "$$ Pi >= 0 \\textrm{   for   i=1,2    (Sign Constraint)} $$\n",
    "---"
   ]
  },
  {
   "cell_type": "code",
   "execution_count": 2,
   "id": "5e2ed651",
   "metadata": {},
   "outputs": [],
   "source": [
    "from docplex.mp.model import Model"
   ]
  },
  {
   "cell_type": "code",
   "execution_count": 3,
   "id": "d59e4ec4",
   "metadata": {},
   "outputs": [],
   "source": [
    "# Create a Model\n",
    "mdl = Model('Apple Example')"
   ]
  },
  {
   "cell_type": "code",
   "execution_count": 4,
   "id": "35881013",
   "metadata": {},
   "outputs": [],
   "source": [
    "#Define Cont. Variables and give a sign constraint\n",
    "P1 = mdl.continuous_var(name='IPhone Price', lb=0)\n",
    "P2 = mdl.continuous_var(name='IPod Price', lb=0)"
   ]
  },
  {
   "cell_type": "code",
   "execution_count": 8,
   "id": "9d827d5c",
   "metadata": {},
   "outputs": [
    {
     "data": {
      "text/plain": [
       "[docplex.mp.LinearConstraint[Grp1 Sell Const.](-IPod Price+8,LE,-IPhone Price+10),\n",
       " docplex.mp.LinearConstraint[Grp2 Sell Const.](-IPhone Price+12,LE,-IPod Price+15),\n",
       " docplex.mp.LinearConstraint[IPhone Price Const.](IPhone Price,LE,10),\n",
       " docplex.mp.LinearConstraint[Ipod Price Const.](IPod Price,LE,15)]"
      ]
     },
     "execution_count": 8,
     "metadata": {},
     "output_type": "execute_result"
    }
   ],
   "source": [
    "#Add Constraints\n",
    "mdl.add_constraints([8 - P2 <= 10 - P1, \n",
    "                   12 - P1 <= 15 - P2,\n",
    "                   P1 <= 10,\n",
    "                   P2 <= 15], names=['Grp1 Sell Const.','Grp2 Sell Const.',\n",
    "                                   'IPhone Price Const.','Ipod Price Const.'])"
   ]
  },
  {
   "cell_type": "code",
   "execution_count": 10,
   "id": "21f59a44",
   "metadata": {},
   "outputs": [],
   "source": [
    "#Define an objective function\n",
    "obj_function = P1*1000 + P2*1500\n",
    "mdl.set_objective('max', obj_function)"
   ]
  },
  {
   "cell_type": "code",
   "execution_count": 11,
   "id": "f8d311e2",
   "metadata": {},
   "outputs": [
    {
     "name": "stdout",
     "output_type": "stream",
     "text": [
      "Model: Apple Example\n",
      " - number of variables: 2\n",
      "   - binary=0, integer=0, continuous=2\n",
      " - number of constraints: 8\n",
      "   - linear=8\n",
      " - parameters: defaults\n",
      " - objective: maximize\n",
      " - problem type is: LP\n"
     ]
    }
   ],
   "source": [
    "mdl.print_information()"
   ]
  },
  {
   "cell_type": "code",
   "execution_count": 12,
   "id": "1f6622eb",
   "metadata": {},
   "outputs": [
    {
     "data": {
      "text/plain": [
       "docplex.mp.solution.SolveSolution(obj=29500,values={IPhone Price:10,IPod.."
      ]
     },
     "execution_count": 12,
     "metadata": {},
     "output_type": "execute_result"
    }
   ],
   "source": [
    "mdl.solve()"
   ]
  },
  {
   "cell_type": "code",
   "execution_count": 13,
   "id": "d5da1309",
   "metadata": {},
   "outputs": [
    {
     "name": "stdout",
     "output_type": "stream",
     "text": [
      "objective: 29500.000\n",
      "  \"IPhone Price\"=10.000\n",
      "  \"IPod Price\"=13.000\n"
     ]
    }
   ],
   "source": [
    "mdl.print_solution()"
   ]
  },
  {
   "cell_type": "code",
   "execution_count": null,
   "id": "0330ae85",
   "metadata": {},
   "outputs": [],
   "source": []
  }
 ],
 "metadata": {
  "kernelspec": {
   "display_name": "Python 3 (ipykernel)",
   "language": "python",
   "name": "python3"
  },
  "language_info": {
   "codemirror_mode": {
    "name": "ipython",
    "version": 3
   },
   "file_extension": ".py",
   "mimetype": "text/x-python",
   "name": "python",
   "nbconvert_exporter": "python",
   "pygments_lexer": "ipython3",
   "version": "3.7.13"
  }
 },
 "nbformat": 4,
 "nbformat_minor": 5
}

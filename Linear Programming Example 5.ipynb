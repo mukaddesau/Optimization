{
 "cells": [
  {
   "cell_type": "markdown",
   "id": "ad97af4b",
   "metadata": {},
   "source": [
    "![Ex5](images/LP_Ex_5.png)"
   ]
  },
  {
   "cell_type": "markdown",
   "id": "d92a70a4",
   "metadata": {},
   "source": [
    "***\n",
    "\n",
    "<h2><center>Mathematical Model</center></h1>\n",
    "\n",
    "---\n",
    "$$ max\\quad z = S1\\times0.09 + S2\\times0.07 + S3\\times0.04  \\textrm{   (Objective Function)} $$\n",
    "---\n",
    " \n",
    "$$ \\textrm{subject to } $$\n",
    "---\n",
    "$$ S1 <= 3  \\textrm{   (Invest Constraint)} $$\n",
    "---\n",
    "$$ S2 <= 5   \\textrm{   (Invest Constraint)} $$\n",
    "---\n",
    "$$ S1 + S2 + S3 <= 10  \\textrm{   (Capital Constraint)} $$\n",
    "---\n",
    "$$ Si >= 0 \\textrm{   for   i=1,2,3   (Sign Constraint)} $$\n",
    "---"
   ]
  },
  {
   "cell_type": "code",
   "execution_count": 19,
   "id": "3625eeac",
   "metadata": {},
   "outputs": [],
   "source": [
    "from docplex.mp.model import Model"
   ]
  },
  {
   "cell_type": "code",
   "execution_count": 20,
   "id": "5d7f63ea",
   "metadata": {},
   "outputs": [],
   "source": [
    "# Create a model.\n",
    "mdl = Model('Investment Example')"
   ]
  },
  {
   "cell_type": "code",
   "execution_count": 21,
   "id": "4dcddaac",
   "metadata": {},
   "outputs": [],
   "source": [
    "#Define Cont. Variables and give a sign constraint\n",
    "S1 = mdl.continuous_var(name='Security 1', lb=0)\n",
    "S2 = mdl.continuous_var(name='Security 2', lb=0)\n",
    "S3 = mdl.continuous_var(name='Security 3', lb=0)"
   ]
  },
  {
   "cell_type": "code",
   "execution_count": 22,
   "id": "c46a799e",
   "metadata": {},
   "outputs": [
    {
     "data": {
      "text/plain": [
       "[docplex.mp.LinearConstraint[Invest S1 Const.](Security 1,LE,3),\n",
       " docplex.mp.LinearConstraint[Invest S2 Const.](Security 2,LE,5),\n",
       " docplex.mp.LinearConstraint[Capital Const.](Security 1+Security 2+Security 3,LE,10)]"
      ]
     },
     "execution_count": 22,
     "metadata": {},
     "output_type": "execute_result"
    }
   ],
   "source": [
    "# Add constraints.\n",
    "mdl.add_constraints([S1<=3, S2<=5, S1+S2+S3<=10], names=['Invest S1 Const.','Invest S2 Const.', \n",
    "                                                         'Capital Const.'])"
   ]
  },
  {
   "cell_type": "code",
   "execution_count": 23,
   "id": "23bdabca",
   "metadata": {},
   "outputs": [],
   "source": [
    "#Define an objective function\n",
    "obj_function = S1*0.09 + S2*0.07 + S3*0.04\n",
    "mdl.set_objective('max', obj_function)"
   ]
  },
  {
   "cell_type": "code",
   "execution_count": 24,
   "id": "22d79f0f",
   "metadata": {},
   "outputs": [
    {
     "name": "stdout",
     "output_type": "stream",
     "text": [
      "Model: Investment Example\n",
      " - number of variables: 3\n",
      "   - binary=0, integer=0, continuous=3\n",
      " - number of constraints: 3\n",
      "   - linear=3\n",
      " - parameters: defaults\n",
      " - objective: maximize\n",
      " - problem type is: LP\n"
     ]
    }
   ],
   "source": [
    "# Print the Parameters\n",
    "mdl.print_information()"
   ]
  },
  {
   "cell_type": "code",
   "execution_count": 25,
   "id": "27611f37",
   "metadata": {},
   "outputs": [
    {
     "data": {
      "text/plain": [
       "docplex.mp.solution.SolveSolution(obj=0.7,values={Security 1:3,Security .."
      ]
     },
     "execution_count": 25,
     "metadata": {},
     "output_type": "execute_result"
    }
   ],
   "source": [
    "#Call the Solver\n",
    "mdl.solve()"
   ]
  },
  {
   "cell_type": "code",
   "execution_count": 26,
   "id": "712c3fb9",
   "metadata": {},
   "outputs": [
    {
     "name": "stdout",
     "output_type": "stream",
     "text": [
      "objective: 0.700\n",
      "  \"Security 1\"=3.000\n",
      "  \"Security 2\"=5.000\n",
      "  \"Security 3\"=2.000\n"
     ]
    }
   ],
   "source": [
    "#Show the Results\n",
    "mdl.print_solution()"
   ]
  },
  {
   "cell_type": "code",
   "execution_count": null,
   "id": "77379159",
   "metadata": {},
   "outputs": [],
   "source": []
  }
 ],
 "metadata": {
  "kernelspec": {
   "display_name": "Python 3 (ipykernel)",
   "language": "python",
   "name": "python3"
  },
  "language_info": {
   "codemirror_mode": {
    "name": "ipython",
    "version": 3
   },
   "file_extension": ".py",
   "mimetype": "text/x-python",
   "name": "python",
   "nbconvert_exporter": "python",
   "pygments_lexer": "ipython3",
   "version": "3.7.13"
  }
 },
 "nbformat": 4,
 "nbformat_minor": 5
}
